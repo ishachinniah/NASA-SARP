{
 "cells": [
  {
   "cell_type": "code",
   "execution_count": 18,
   "id": "c15a3f66-b7f0-4a34-a2c3-d2921b8163d7",
   "metadata": {
    "tags": []
   },
   "outputs": [
    {
     "name": "stdout",
     "output_type": "stream",
     "text": [
      "   pressure       sal         Wt    CHL  agp400.9  agp404.3  agp407.8   \n",
      "1       1.5  0.483175  25.087299  9.128  5.131305  5.028419  4.901094  \\\n",
      "\n",
      "   agp410.9  agp414.5  agp418.2  ...  ECO_VSF_Beta_B100_  ECO_VSF_Beta_B125_   \n",
      "1  4.786908  4.644709   4.48997  ...            0.047892            0.039038  \\\n",
      "\n",
      "   ECO_VSF_Beta_B150_  ECO_VSF_Beta_G100_  ECO_VSF_Beta_G125_   \n",
      "1            0.029112            0.057872            0.049645  \\\n",
      "\n",
      "   ECO_VSF_Beta_G150_  ECO_VSF_Beta_R100_  ECO_VSF_Beta_R125_   \n",
      "1            0.031253            0.026128            0.021082  \\\n",
      "\n",
      "   ECO_VSF_Beta_R150_  Unnamed: 783_level_0  \n",
      "1            0.012768                   NaN  \n",
      "\n",
      "[1 rows x 784 columns]\n"
     ]
    }
   ],
   "source": [
    "#Authored by Nathan Tesfayi\n",
    "import pandas as pd\n",
    "\n",
    "# Specify that the first two rows are headers\n",
    "IOP_df1 = pd.read_csv('/efs/sarp/data/Surf_OpticsProfilerData/IOP_NASAsarp23St01_001d.csv', header=[0, 1], skiprows=range(0, 66))\n",
    "\n",
    "# Remove the second level of the multi-level column index (the units)\n",
    "IOP_df1.columns = IOP_df1.columns.droplevel(1)\n",
    "\n",
    "# Remove the first row (the row with units)\n",
    "IOP_df1 = IOP_df1.drop(0)\n",
    "\n",
    "# Retrieve the row with pressure = 1.5\n",
    "IOP_df1 = IOP_df1[IOP_df1['pressure'] == 1.5]\n",
    "\n",
    "print(IOP_df1)"
   ]
  },
  {
   "cell_type": "code",
   "execution_count": 19,
   "id": "72d1a635-d716-48b8-bb5c-8b16d7bbab29",
   "metadata": {
    "tags": []
   },
   "outputs": [
    {
     "name": "stdout",
     "output_type": "stream",
     "text": [
      "   pressure       sal         Wt    CHL  agp400.9  agp404.3  agp407.8   \n",
      "1       1.5  6.943292  25.274099  5.593  2.525151  2.443801  2.379273  \\\n",
      "\n",
      "   agp410.9  agp414.5  agp418.2  ...  ECO_VSF_Beta_B100_  ECO_VSF_Beta_B125_   \n",
      "1  2.294137  2.199241  2.119288  ...            0.026368            0.019836  \\\n",
      "\n",
      "   ECO_VSF_Beta_B150_  ECO_VSF_Beta_G100_  ECO_VSF_Beta_G125_   \n",
      "1            0.019297            0.029129            0.022047  \\\n",
      "\n",
      "   ECO_VSF_Beta_G150_  ECO_VSF_Beta_R100_  ECO_VSF_Beta_R125_   \n",
      "1            0.024495             0.02223            0.016174  \\\n",
      "\n",
      "   ECO_VSF_Beta_R150_  Unnamed: 783_level_0  \n",
      "1            0.012765                   NaN  \n",
      "\n",
      "[1 rows x 784 columns]\n"
     ]
    }
   ],
   "source": [
    "#Authored by Nathan Tesfayi\n",
    "\n",
    "import pandas as pd\n",
    "import matplotlib.pyplot as plt\n",
    "#!pip install folium\n",
    "#!pip install geopandas\n",
    "\n",
    "\n",
    "# Specify that the first two rows are headers\n",
    "IOP_df2 = pd.read_csv('/efs/sarp/data/Surf_OpticsProfilerData/IOP_NASAsarp23St02_001d.csv', header=[0, 1], skiprows=range(0, 66))\n",
    "\n",
    "# Remove the second level of the multi-level column index (the units)\n",
    "IOP_df2.columns = IOP_df2.columns.droplevel(1)\n",
    "\n",
    "# Remove the first row (the row with units)\n",
    "IOP_df2 = IOP_df2.drop(0)\n",
    "\n",
    "# Retrieve the row with pressure = 1.5\n",
    "IOP_df2 = IOP_df2[IOP_df2['pressure'] == 1.5]\n",
    "\n",
    "print(IOP_df2)"
   ]
  },
  {
   "cell_type": "code",
   "execution_count": 20,
   "id": "9579fcc8-b1ce-4f9f-b952-ac1f2e1e1637",
   "metadata": {
    "tags": []
   },
   "outputs": [
    {
     "name": "stdout",
     "output_type": "stream",
     "text": [
      "   pressure      sal       Wt    CHL  agp400.9  agp404.3  agp407.8  agp410.9   \n",
      "1       1.5  2.07428  25.1355  8.351  4.839015  4.768963  4.629086  4.502522  \\\n",
      "\n",
      "   agp414.5  agp418.2  ...  ECO_VSF_Beta_B100_  ECO_VSF_Beta_B125_   \n",
      "1  4.362894  4.210021  ...            0.047917            0.039058  \\\n",
      "\n",
      "   ECO_VSF_Beta_B150_  ECO_VSF_Beta_G100_  ECO_VSF_Beta_G125_   \n",
      "1            0.029127            0.057872            0.049506  \\\n",
      "\n",
      "   ECO_VSF_Beta_G150_  ECO_VSF_Beta_R100_  ECO_VSF_Beta_R125_   \n",
      "1            0.031253            0.026128            0.021082  \\\n",
      "\n",
      "   ECO_VSF_Beta_R150_  Unnamed: 783_level_0  \n",
      "1            0.012768                   NaN  \n",
      "\n",
      "[1 rows x 784 columns]\n"
     ]
    }
   ],
   "source": [
    "#Authored by Nathan Tesfayi\n",
    "\n",
    "import pandas as pd\n",
    "import matplotlib.pyplot as plt\n",
    "#!pip install folium\n",
    "#!pip install geopandas\n",
    "\n",
    "\n",
    "# Specify that the first two rows are headers\n",
    "IOP_df3 = pd.read_csv('/efs/sarp/data/Surf_OpticsProfilerData/IOP_NASAsarp23St03_001d.csv', header=[0, 1], skiprows=range(0, 66))\n",
    "\n",
    "# Remove the second level of the multi-level column index (the units)\n",
    "IOP_df3.columns = IOP_df3.columns.droplevel(1)\n",
    "\n",
    "# Remove the first row (the row with units)\n",
    "IOP_df3 = IOP_df3.drop(0)\n",
    "\n",
    "# Retrieve the row with pressure = 1.5\n",
    "IOP_df3 = IOP_df3[IOP_df3['pressure'] == 1.5]\n",
    "\n",
    "print(IOP_df3)"
   ]
  },
  {
   "cell_type": "code",
   "execution_count": 21,
   "id": "0508f897-2cfc-417a-b145-d02afd8c92b1",
   "metadata": {
    "tags": []
   },
   "outputs": [
    {
     "name": "stdout",
     "output_type": "stream",
     "text": [
      "   pressure       sal       Wt    CHL  agp400.9  agp404.3  agp407.8  agp410.9   \n",
      "1       1.5  1.392861  25.1464  10.36  4.752492  4.671291  4.569278  4.426586  \\\n",
      "\n",
      "   agp414.5  agp418.2  ...  ECO_VSF_Beta_B100_  ECO_VSF_Beta_B125_   \n",
      "1  4.289721  4.158542  ...            0.047929            0.039067  \\\n",
      "\n",
      "   ECO_VSF_Beta_B150_  ECO_VSF_Beta_G100_  ECO_VSF_Beta_G125_   \n",
      "1            0.029134            0.057872            0.045068  \\\n",
      "\n",
      "   ECO_VSF_Beta_G150_  ECO_VSF_Beta_R100_  ECO_VSF_Beta_R125_   \n",
      "1            0.031253            0.026128            0.021082  \\\n",
      "\n",
      "   ECO_VSF_Beta_R150_  Unnamed: 783_level_0  \n",
      "1            0.012768                   NaN  \n",
      "\n",
      "[1 rows x 784 columns]\n"
     ]
    }
   ],
   "source": [
    "#Authored by Nathan Tesfayi\n",
    "\n",
    "import pandas as pd\n",
    "import matplotlib.pyplot as plt\n",
    "#!pip install folium\n",
    "#!pip install geopandas\n",
    "\n",
    "# Specify that the first two rows are headers\n",
    "IOP_df4 = pd.read_csv('/efs/sarp/data/Surf_OpticsProfilerData/IOP_NASAsarp23St04_001d.csv', header=[0, 1], skiprows=range(0, 66))\n",
    "\n",
    "# Remove the second level of the multi-level column index (the units)\n",
    "IOP_df4.columns = IOP_df4.columns.droplevel(1)\n",
    "\n",
    "# Remove the first row (the row with units)\n",
    "IOP_df4 = IOP_df4.drop(0)\n",
    "\n",
    "# Retrieve the row with pressure = 1.5\n",
    "IOP_df4 = IOP_df4[IOP_df4['pressure'] == 1.5]\n",
    "\n",
    "print(IOP_df4)"
   ]
  },
  {
   "cell_type": "code",
   "execution_count": 22,
   "id": "b39df3df-3148-4ec4-b5a5-5fe8aa7da14c",
   "metadata": {
    "tags": []
   },
   "outputs": [
    {
     "name": "stdout",
     "output_type": "stream",
     "text": [
      "   pressure       sal         Wt     CHL  agp400.9  agp404.3  agp407.8   \n",
      "0       1.5  0.483175  25.087299   9.128  5.131305  5.028419  4.901094  \\\n",
      "1       1.5  6.943292  25.274099   5.593  2.525151  2.443801  2.379273   \n",
      "2       1.5  2.074280  25.135500   8.351  4.839015  4.768963  4.629086   \n",
      "3       1.5  1.392861  25.146400  10.360  4.752492  4.671291  4.569278   \n",
      "\n",
      "   agp410.9  agp414.5  agp418.2  ...  ECO_VSF_Beta_G125_  ECO_VSF_Beta_G150_   \n",
      "0  4.786908  4.644709  4.489970  ...            0.049645            0.031253  \\\n",
      "1  2.294137  2.199241  2.119288  ...            0.022047            0.024495   \n",
      "2  4.502522  4.362894  4.210021  ...            0.049506            0.031253   \n",
      "3  4.426586  4.289721  4.158542  ...            0.045068            0.031253   \n",
      "\n",
      "   ECO_VSF_Beta_R100_  ECO_VSF_Beta_R125_  ECO_VSF_Beta_R150_   \n",
      "0            0.026128            0.021082            0.012768  \\\n",
      "1            0.022230            0.016174            0.012765   \n",
      "2            0.026128            0.021082            0.012768   \n",
      "3            0.026128            0.021082            0.012768   \n",
      "\n",
      "   Unnamed: 783_level_0  Station   Latitude  Longitude   \n",
      "0                   NaN        1  37.233528 -76.950252  \\\n",
      "1                   NaN        2  37.166868 -76.650090   \n",
      "2                   NaN        3  37.216731 -76.800243   \n",
      "3                   NaN        4  37.216460 -76.872490   \n",
      "\n",
      "                   datetime  \n",
      "0 2023-06-20 13:09:00+00:00  \n",
      "1 2023-06-20 15:09:00+00:00  \n",
      "2 2023-06-20 15:56:00+00:00  \n",
      "3 2023-06-20 16:09:00+00:00  \n",
      "\n",
      "[4 rows x 788 columns]\n"
     ]
    }
   ],
   "source": [
    "# Add a new column 'Station' with values 1, 2, 3, and 4 to each DataFrame\n",
    "IOP_df1['Station'] = 1\n",
    "IOP_df2['Station'] = 2\n",
    "IOP_df3['Station'] = 3\n",
    "IOP_df4['Station'] = 4\n",
    "\n",
    "# Add latitude and longitude columns to each DataFrame\n",
    "IOP_df1['Latitude'] = 37.23352811\n",
    "IOP_df1['Longitude'] = -76.95025167\n",
    "\n",
    "IOP_df2['Latitude'] = 37.16686789\n",
    "IOP_df2['Longitude'] = -76.65008967\n",
    "\n",
    "IOP_df3['Latitude'] = 37.21673139\n",
    "IOP_df3['Longitude'] = -76.80024333\n",
    "\n",
    "IOP_df4['Latitude'] = 37.21646\n",
    "IOP_df4['Longitude'] = -76.87249\n",
    "\n",
    "# Add datetime columns to each DataFrame\n",
    "IOP_df1['datetime'] = pd.to_datetime('6/20/2023T13:09', utc=True)\n",
    "IOP_df2['datetime'] = pd.to_datetime('6/20/2023T15:09', utc=True)\n",
    "IOP_df3['datetime'] = pd.to_datetime('6/20/2023T15:56', utc=True)\n",
    "IOP_df4['datetime'] = pd.to_datetime('6/20/2023T16:09', utc=True)\n",
    "\n",
    "# Merge the DataFrames into one DataFrame\n",
    "merged_df = pd.concat([IOP_df1, IOP_df2, IOP_df3, IOP_df4], ignore_index=True)\n",
    "\n",
    "print(merged_df)"
   ]
  },
  {
   "cell_type": "code",
   "execution_count": 23,
   "id": "f6cb147c-c46a-4520-ac5a-2f9dc0e39cb5",
   "metadata": {},
   "outputs": [],
   "source": [
    "merged_df.to_csv('IOP_CHLa.csv')"
   ]
  },
  {
   "cell_type": "code",
   "execution_count": null,
   "id": "16b3bea0-dd4e-45f8-b2fc-b23431a0ba0b",
   "metadata": {},
   "outputs": [],
   "source": []
  },
  {
   "cell_type": "code",
   "execution_count": null,
   "id": "f992afe3-5f6a-4d8f-91ad-28643b13c290",
   "metadata": {},
   "outputs": [],
   "source": []
  },
  {
   "cell_type": "code",
   "execution_count": null,
   "id": "34a4a11d-500a-4af7-80c3-4d43889837c4",
   "metadata": {},
   "outputs": [],
   "source": []
  }
 ],
 "metadata": {
  "kernelspec": {
   "display_name": "Python 3 (ipykernel)",
   "language": "python",
   "name": "python3"
  },
  "language_info": {
   "codemirror_mode": {
    "name": "ipython",
    "version": 3
   },
   "file_extension": ".py",
   "mimetype": "text/x-python",
   "name": "python",
   "nbconvert_exporter": "python",
   "pygments_lexer": "ipython3",
   "version": "3.10.11"
  }
 },
 "nbformat": 4,
 "nbformat_minor": 5
}
